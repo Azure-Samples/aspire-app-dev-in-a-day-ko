{
 "cells": [
  {
   "cell_type": "code",
   "execution_count": null,
   "metadata": {
    "dotnet_interactive": {
     "language": "csharp"
    },
    "polyglot_notebook": {
     "kernelName": "csharp"
    },
    "vscode": {
     "languageId": "polyglot-notebook"
    }
   },
   "outputs": [],
   "source": [
    "// Nuget Packages\n",
    "#r \"nuget: MelonChart.NET, 1.*\"\n",
    "\n",
    "#r \"nuget: Microsoft.SemanticKernel, 1.*\"\n",
    "#r \"nuget: Microsoft.SemanticKernel.Connectors.OpenAI, 1.*\"\n",
    "#r \"nuget: Microsoft.SemanticKernel.Core, 1.*\"\n",
    "#r \"nuget: Microsoft.SemanticKernel.Plugins.Core, 1.*-*\"\n",
    "#r \"nuget: Microsoft.SemanticKernel.Plugins.Memory, 1.*-*\"\n",
    "\n",
    "#r \"nuget: System.Linq.Async, 6.*\"\n"
   ]
  },
  {
   "cell_type": "code",
   "execution_count": 2,
   "metadata": {
    "dotnet_interactive": {
     "language": "csharp"
    },
    "polyglot_notebook": {
     "kernelName": "csharp"
    },
    "vscode": {
     "languageId": "polyglot-notebook"
    }
   },
   "outputs": [],
   "source": [
    "// Add using statements\n",
    "using System.ComponentModel;\n",
    "using System.Net.Http;\n",
    "using System.Text.Encodings.Web;\n",
    "using System.Text.Json;\n",
    "using System.Text.Json.Serialization;\n",
    "\n",
    "using MelonChart.Models;\n",
    "\n",
    "using Microsoft.SemanticKernel;\n",
    "using Microsoft.SemanticKernel.Connectors.OpenAI;\n",
    "using Microsoft.SemanticKernel.Memory;\n",
    "\n",
    "using Kernel = Microsoft.SemanticKernel.Kernel;"
   ]
  },
  {
   "cell_type": "code",
   "execution_count": 3,
   "metadata": {
    "dotnet_interactive": {
     "language": "csharp"
    },
    "polyglot_notebook": {
     "kernelName": "csharp"
    },
    "vscode": {
     "languageId": "polyglot-notebook"
    }
   },
   "outputs": [],
   "source": [
    "// Azure OpenAI configurations\n",
    "var endpoint = \"<AZURE_OPENAI_ENDPOINT>\";\n",
    "var apiKey = \"<AZURE_OPENAI_API_KEY>\";\n",
    "var deploymentName = \"<AZURE_OPENAI_DEPLOYMENT_NAME>\";"
   ]
  },
  {
   "cell_type": "code",
   "execution_count": 4,
   "metadata": {
    "dotnet_interactive": {
     "language": "csharp"
    },
    "polyglot_notebook": {
     "kernelName": "csharp"
    },
    "vscode": {
     "languageId": "polyglot-notebook"
    }
   },
   "outputs": [],
   "source": [
    "// Build Semantic Kernel\n",
    "var kernel = Kernel.CreateBuilder()\n",
    "                   .AddAzureOpenAIChatCompletion(\n",
    "                       deploymentName: deploymentName,\n",
    "                       endpoint: endpoint,\n",
    "                       apiKey: apiKey)\n",
    "                   .Build();"
   ]
  },
  {
   "cell_type": "code",
   "execution_count": 5,
   "metadata": {
    "dotnet_interactive": {
     "language": "csharp"
    },
    "polyglot_notebook": {
     "kernelName": "csharp"
    },
    "vscode": {
     "languageId": "polyglot-notebook"
    }
   },
   "outputs": [],
   "source": [
    "// Import prompts\n",
    "var prompts = kernel.ImportPluginFromPromptDirectory(\"Prompts\");"
   ]
  },
  {
   "cell_type": "code",
   "execution_count": 6,
   "metadata": {
    "dotnet_interactive": {
     "language": "csharp"
    },
    "polyglot_notebook": {
     "kernelName": "csharp"
    },
    "vscode": {
     "languageId": "polyglot-notebook"
    }
   },
   "outputs": [],
   "source": [
    "// Import codes\n",
    "#!import Plugins/AddMemory/AddMelonChartPlugin.cs"
   ]
  },
  {
   "cell_type": "code",
   "execution_count": 7,
   "metadata": {
    "dotnet_interactive": {
     "language": "csharp"
    },
    "polyglot_notebook": {
     "kernelName": "csharp"
    },
    "vscode": {
     "languageId": "polyglot-notebook"
    }
   },
   "outputs": [],
   "source": [
    "// Import plugins\n",
    "kernel.ImportPluginFromType<AddMelonChartPlugin>();"
   ]
  },
  {
   "cell_type": "code",
   "execution_count": 8,
   "metadata": {
    "dotnet_interactive": {
     "language": "csharp"
    },
    "polyglot_notebook": {
     "kernelName": "csharp"
    },
    "vscode": {
     "languageId": "polyglot-notebook"
    }
   },
   "outputs": [],
   "source": [
    "// Build Semantic Memory\n",
    "#pragma warning disable SKEXP0001\n",
    "#pragma warning disable SKEXP0010\n",
    "#pragma warning disable SKEXP0050\n",
    "\n",
    "var memory = new MemoryBuilder()\n",
    "                 .WithAzureOpenAITextEmbeddingGeneration(\n",
    "                     deploymentName: \"model-textembeddingada002-2\",\n",
    "                     endpoint: endpoint,\n",
    "                     apiKey: apiKey)\n",
    "                 .WithMemoryStore(new VolatileMemoryStore())\n",
    "                 .Build();"
   ]
  },
  {
   "cell_type": "code",
   "execution_count": 9,
   "metadata": {
    "dotnet_interactive": {
     "language": "csharp"
    },
    "polyglot_notebook": {
     "kernelName": "csharp"
    },
    "vscode": {
     "languageId": "polyglot-notebook"
    }
   },
   "outputs": [],
   "source": [
    "// Add HttpClient instance.\n",
    "var http = new HttpClient();"
   ]
  },
  {
   "cell_type": "code",
   "execution_count": 10,
   "metadata": {
    "dotnet_interactive": {
     "language": "csharp"
    },
    "polyglot_notebook": {
     "kernelName": "csharp"
    },
    "vscode": {
     "languageId": "polyglot-notebook"
    }
   },
   "outputs": [],
   "source": [
    "// Add JsonSerializerOptions instance.\n",
    "var jso = new JsonSerializerOptions()\n",
    "{\n",
    "    WriteIndented = false,\n",
    "    PropertyNamingPolicy = JsonNamingPolicy.CamelCase,\n",
    "    Encoder = JavaScriptEncoder.UnsafeRelaxedJsonEscaping,\n",
    "    Converters = { new JsonStringEnumConverter(JsonNamingPolicy.CamelCase) },\n",
    "};"
   ]
  },
  {
   "cell_type": "code",
   "execution_count": null,
   "metadata": {
    "dotnet_interactive": {
     "language": "csharp"
    },
    "polyglot_notebook": {
     "kernelName": "csharp"
    },
    "vscode": {
     "languageId": "polyglot-notebook"
    }
   },
   "outputs": [],
   "source": [
    "// User input\n",
    "var question = await Microsoft.DotNet.Interactive.Kernel.GetInputAsync(\"무엇이 궁금한가요?\");\n",
    "\n",
    "Console.WriteLine($\"User: {question}\");"
   ]
  },
  {
   "cell_type": "code",
   "execution_count": null,
   "metadata": {
    "dotnet_interactive": {
     "language": "csharp"
    },
    "polyglot_notebook": {
     "kernelName": "csharp"
    },
    "vscode": {
     "languageId": "polyglot-notebook"
    }
   },
   "outputs": [],
   "source": [
    "// Invoke the prompt - GetIntent\n",
    "var intent = await kernel.InvokeAsync<string>(\n",
    "                        function: prompts[\"GetIntent\"],\n",
    "                        arguments: new KernelArguments()\n",
    "                        {\n",
    "                            { \"input\", question }\n",
    "                        });\n",
    "\n",
    "Console.WriteLine(intent);"
   ]
  },
  {
   "cell_type": "code",
   "execution_count": null,
   "metadata": {
    "dotnet_interactive": {
     "language": "csharp"
    },
    "polyglot_notebook": {
     "kernelName": "csharp"
    },
    "vscode": {
     "languageId": "polyglot-notebook"
    }
   },
   "outputs": [],
   "source": [
    "// Invoke the prompt - RefineQuestion\n",
    "var refined = await kernel.InvokeAsync<string>(\n",
    "                        function: prompts[\"RefineQuestion\"],\n",
    "                        arguments: new KernelArguments()\n",
    "                        {\n",
    "                            { \"input\", question },\n",
    "                            { \"intent\", intent }\n",
    "                        });\n",
    "\n",
    "Console.WriteLine(refined);"
   ]
  },
  {
   "cell_type": "code",
   "execution_count": null,
   "metadata": {
    "dotnet_interactive": {
     "language": "csharp"
    },
    "polyglot_notebook": {
     "kernelName": "csharp"
    },
    "vscode": {
     "languageId": "polyglot-notebook"
    }
   },
   "outputs": [],
   "source": [
    "// Invoke the plugin - Add Melon Chart data\n",
    "await kernel.InvokeAsync(\n",
    "    pluginName: nameof(AddMelonChartPlugin),\n",
    "    functionName: nameof(AddMelonChartPlugin.AddChart), \n",
    "    arguments: new KernelArguments()\n",
    "    {\n",
    "        { \"memory\", memory }, \n",
    "        { \"http\", http },\n",
    "        { \"jso\", jso }, \n",
    "    }\n",
    ");"
   ]
  },
  {
   "cell_type": "code",
   "execution_count": null,
   "metadata": {
    "dotnet_interactive": {
     "language": "csharp"
    },
    "polyglot_notebook": {
     "kernelName": "csharp"
    },
    "vscode": {
     "languageId": "polyglot-notebook"
    }
   },
   "outputs": [],
   "source": [
    "// Invoke the plugin - Find songs\n",
    "var results = await kernel.InvokeAsync(\n",
    "    pluginName: nameof(AddMelonChartPlugin),\n",
    "    functionName: nameof(AddMelonChartPlugin.FindSongs), \n",
    "    arguments: new KernelArguments()\n",
    "    {\n",
    "        { \"memory\", memory }, \n",
    "        { \"question\", refined },\n",
    "        { \"jso\", jso }, \n",
    "    }\n",
    ");\n",
    "\n",
    "var data = results.GetValue<List<ChartItem>>().Select(p => JsonSerializer.Serialize(p, jso)).Aggregate((x, y) => $\"{x}\\n{y}\");\n",
    "\n",
    "Console.WriteLine(data);"
   ]
  },
  {
   "cell_type": "code",
   "execution_count": null,
   "metadata": {
    "dotnet_interactive": {
     "language": "csharp"
    },
    "polyglot_notebook": {
     "kernelName": "csharp"
    },
    "vscode": {
     "languageId": "polyglot-notebook"
    }
   },
   "outputs": [],
   "source": [
    "// Invoke the prompt - RefineResult\n",
    "var refined = await kernel.InvokeAsync<string>(\n",
    "                        function: prompts[\"RefineResult\"],\n",
    "                        arguments: new KernelArguments()\n",
    "                        {\n",
    "                            { \"input\", data },\n",
    "                            { \"intent\", intent }\n",
    "                        });\n",
    "\n",
    "Console.WriteLine(refined);"
   ]
  }
 ],
 "metadata": {
  "kernelspec": {
   "display_name": ".NET (C#)",
   "language": "C#",
   "name": ".net-csharp"
  },
  "language_info": {
   "name": "csharp"
  },
  "polyglot_notebook": {
   "kernelInfo": {
    "defaultKernelName": "csharp",
    "items": [
     {
      "aliases": [],
      "name": "csharp"
     }
    ]
   }
  }
 },
 "nbformat": 4,
 "nbformat_minor": 2
}
